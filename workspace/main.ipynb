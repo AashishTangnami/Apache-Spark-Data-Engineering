{
 "cells": [
  {
   "cell_type": "code",
   "execution_count": null,
   "metadata": {},
   "outputs": [],
   "source": [
    "from pyspark.sql import SparkSession\n",
    "spark = SparkSession.builder.appName(\"Data Engineering ETL Pipeline\").getOrCreate()\n"
   ]
  },
  {
   "cell_type": "code",
   "execution_count": null,
   "metadata": {},
   "outputs": [],
   "source": [
    "%run \"./transform\"\n",
    "%run \"./extractor\"\n",
    "%run \"./loader\""
   ]
  },
  {
   "cell_type": "code",
   "execution_count": null,
   "metadata": {},
   "outputs": [],
   "source": [
    "class FirstWorkFlow:\n",
    "    def __init__(self):\n",
    "        pass\n",
    "\n",
    "    def runner(self):\n",
    "        \n",
    "        # step 1 - Extract all required data from different source\n",
    "        input_dfs = AirpodsAfterIphoneExtractor().extractor()\n",
    "\n",
    "        # step 2 - Implement the Transformation Logic\n",
    "        # Customers who have bought Airpods after buying the Iphone\n",
    "        transformed_input_dfs = LeadTransformer().transform(input_dfs)\n",
    "\n",
    "        # step 3 - loader \n",
    "        AirPodsAfterIphoneLoader(transformed_input_dfs).sink()\n",
    "\n"
   ]
  },
  {
   "cell_type": "code",
   "execution_count": null,
   "metadata": {},
   "outputs": [],
   "source": [
    "class SecondWorkFlow:\n",
    "    \"\"\"\n",
    "    ETL for those customers who have only bought Iphone.\n",
    "    \"\"\"\n",
    "    def __init__(self):\n",
    "        pass\n",
    "\n",
    "    def runner(self):\n",
    "        \n",
    "        # step 1 - Extract all required data from different source\n",
    "        input_dfs = AirpodsAfterIphoneExtractor().extractor()\n",
    "\n",
    "        # step 2 - Implement the Transformation Logic\n",
    "        # Customers who have bought Airpods after buying the Iphone\n",
    "        onlyAirpodsAndIphoneDF = OnlyAirpodsAndIphone().transform(input_dfs)\n",
    "\n",
    "        # step 3 - loader \n",
    "        OnlyAirpodsAndIPhoneLoader(onlyAirpodsAndIphoneDF).sink()\n",
    "\n"
   ]
  },
  {
   "cell_type": "code",
   "execution_count": null,
   "metadata": {},
   "outputs": [],
   "source": [
    "class WorkFlowRunner:\n",
    "    def __init__(self, name):\n",
    "        self.name = name\n",
    "    \n",
    "    def runner(self):\n",
    "        if self.name == \"first_work_flow\":\n",
    "            return FirstWorkFlow().runner()\n",
    "        elif self.name == \"second_work_flow\":\n",
    "            return SecondWorkFlow().runner()\n",
    "        else:\n",
    "            return ValueError(f\"The ETL for {self.name} does not exist.\")\n",
    "\n",
    "\n"
   ]
  },
  {
   "cell_type": "code",
   "execution_count": null,
   "metadata": {},
   "outputs": [],
   "source": [
    "name = \"first_work_flow\"\n",
    "\n",
    "work_flow_runner = WorkFlowRunner(name).runner()"
   ]
  },
  {
   "cell_type": "code",
   "execution_count": null,
   "metadata": {},
   "outputs": [],
   "source": [
    "name = \"second_work_flow\"\n",
    "\n",
    "work_flow_runner = WorkFlowRunner(name).runner()"
   ]
  }
 ],
 "metadata": {
  "language_info": {
   "name": "python"
  }
 },
 "nbformat": 4,
 "nbformat_minor": 2
}
