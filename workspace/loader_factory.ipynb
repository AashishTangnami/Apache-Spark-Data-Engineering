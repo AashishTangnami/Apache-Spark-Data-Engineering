{
 "cells": [
  {
   "cell_type": "code",
   "execution_count": null,
   "metadata": {},
   "outputs": [],
   "source": [
    "class DataSink:\n",
    "    \"\"\"\n",
    "    Abstract class\n",
    "    \"\"\"\n",
    "    def __init__(self, df, method, path, params=None):\n",
    "        self.df = df\n",
    "        self.method = method\n",
    "        self.path = path\n",
    "        self.params = params\n",
    "\n",
    "    def load_data_frame(self):\n",
    "        raise ValueError(\"Not Implemented\")\n",
    "\n",
    "class LoadToDBFS(DataSink):\n",
    "    def load_data_frame(self):\n",
    "        self.df.write.mode(self.method).save(self.path)\n",
    "\n",
    "\n",
    "class LoadToDBFSbyPartition(DataSink):\n",
    "    def load_data_frame(self):\n",
    "        partitionByColumns = self.params.get(\"partitionByColumns\")\n",
    "        self.df.write.mode(self.method.partitionBy(*partitionByColumns).save(self.path))\n",
    "\n",
    "\n",
    "class LoadToDeltaTabhle(DataSink):\n",
    "    def load_data_frame(self):\n",
    "        self.df.write.format(\"delta\").mode(self.method).saveAsTable(self.path)\n",
    "\n"
   ]
  },
  {
   "cell_type": "code",
   "execution_count": null,
   "metadata": {},
   "outputs": [],
   "source": [
    "\n",
    "def get_sink_source(sink_type, df, method, path, params): \n",
    "    if sink_type == 'dbfs':\n",
    "        return LoadToDBFS(df, method, path, params)\n",
    "    elif sink_type == 'dbfs_partition':\n",
    "        LoadToDBFSbyPartition(df, method, path, params)\n",
    "    else:\n",
    "        return ValueError(f\"Not Implemented {sink_type}\")"
   ]
  }
 ],
 "metadata": {
  "language_info": {
   "name": "python"
  }
 },
 "nbformat": 4,
 "nbformat_minor": 2
}
