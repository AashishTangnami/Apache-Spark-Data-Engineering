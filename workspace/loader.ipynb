{
 "cells": [
  {
   "cell_type": "code",
   "execution_count": null,
   "metadata": {},
   "outputs": [],
   "source": [
    "%run \"./loader_factory\""
   ]
  },
  {
   "cell_type": "code",
   "execution_count": null,
   "metadata": {},
   "outputs": [],
   "source": [
    "class ABSLoader:\n",
    "    def __init__(self, transformed_input_dfs):\n",
    "        self.transformed_input_dfs = transformed_input_dfs\n",
    "    \n",
    "    def sink(self):\n",
    "        pass\n",
    "\n",
    "class AirPodsAfterIphoneLoader(ABSLoader):\n",
    "    def sink(self):\n",
    "        get_sink_source(\n",
    "            sink_type = \"dbfs\",\n",
    "            df = self.transformed_input_dfs,\n",
    "            path = \"dbfs:/FileStore/output/tables\",\n",
    "            method = \"overwrite\",\n",
    "            params = \"\"\n",
    "        ).load_data_frame()\n",
    "    \n",
    "class OnlyAirpodsAndIphoneLoader(ABSLoader):\n",
    "    def sink(self):\n",
    "        params = {\n",
    "            \"partitionByColumns\" : [\"location\"]\n",
    "        }\n",
    "        get_sink_source(\n",
    "            sink_type = \"dfs_with_partition\",\n",
    "            df = self.transformed_input_dfs,\n",
    "            path = \"\",\n",
    "            method = \"overwrite\",\n",
    "            params = params\n",
    "\n",
    "        ).load_data_frame()\n",
    "\n",
    "        get_sink_source(\n",
    "            sink_type = \"delta\",\n",
    "            df = self.transformed_input_dfs,\n",
    "            path = \"\",\n",
    "            method = \"overwrite\",\n",
    "\n",
    "        ).load_data_frame()"
   ]
  }
 ],
 "metadata": {
  "language_info": {
   "name": "python"
  }
 },
 "nbformat": 4,
 "nbformat_minor": 2
}
