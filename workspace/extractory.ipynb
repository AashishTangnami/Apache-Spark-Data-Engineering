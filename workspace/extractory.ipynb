{
 "cells": [
  {
   "cell_type": "code",
   "execution_count": null,
   "metadata": {},
   "outputs": [],
   "source": [
    "%run \"./reader_factory\""
   ]
  },
  {
   "cell_type": "code",
   "execution_count": null,
   "metadata": {},
   "outputs": [],
   "source": [
    "class Extractor:\n",
    "    def __init__(self):\n",
    "        pass\n",
    "    \n",
    "    def extractor(self):\n",
    "        pass\n",
    "        \n",
    "class AirpodsAfterIphoneExtractor(Extractor):       \n",
    "    def extractor(self): \n",
    "        \"\"\"\n",
    "            Implement the steps for extracting or reading the data.\n",
    "        \"\"\"\n",
    "\n",
    "        transaction_input_df = get_data_source(\n",
    "            data_type = \"csv\",\n",
    "            file_path=\"dbfs:/FileStore/Transaction_Updated.csv\"\n",
    "        ).get_data_frame()\n",
    "\n",
    "        customer_delta_input_df = get_data_source(\n",
    "            data_type = \"delta\",\n",
    "            file_path=\"default.customer_updated_csv\"\n",
    "        ).get_data_frame()\n",
    "\n",
    "        input_dfs = {\n",
    "            \"transaction_input_df\" : transaction_input_df,\n",
    "            \"customer_input_df\" : customer_delta_input_df\n",
    "        }\n",
    "\n",
    "        return input_dfs\n",
    "\n"
   ]
  }
 ],
 "metadata": {
  "language_info": {
   "name": "python"
  }
 },
 "nbformat": 4,
 "nbformat_minor": 2
}
